{
 "cells": [
  {
   "cell_type": "markdown",
   "metadata": {},
   "source": [
    "# Looping - Iterables, Collections, Sequences"
   ]
  },
  {
   "cell_type": "markdown",
   "metadata": {},
   "source": [
    "```python\n",
    "for element in iterable:\n",
    "    do_something()\n",
    "```"
   ]
  },
  {
   "cell_type": "markdown",
   "metadata": {},
   "source": [
    "## If `iterable` is a list, `element` is a member of that list."
   ]
  },
  {
   "cell_type": "code",
   "execution_count": null,
   "metadata": {},
   "outputs": [],
   "source": [
    "L = [1, 2, 3]\n",
    "for i in L:\n",
    "    print(i)"
   ]
  },
  {
   "cell_type": "markdown",
   "metadata": {},
   "source": [
    "## If `iterable` is a dictionary, `element` is a key of that dictionary."
   ]
  },
  {
   "cell_type": "code",
   "execution_count": null,
   "metadata": {},
   "outputs": [],
   "source": [
    "D = {'name': 'Jaidev', 'age': 32, 'sex': 'M'}\n",
    "for element in D:\n",
    "    print(element)"
   ]
  },
  {
   "cell_type": "markdown",
   "metadata": {},
   "source": [
    "## If `iterable` is a string, `element` is a character of that string."
   ]
  },
  {
   "cell_type": "code",
   "execution_count": null,
   "metadata": {},
   "outputs": [],
   "source": [
    "S = \"springboard\"\n",
    "for i in S:\n",
    "    print(i)"
   ]
  },
  {
   "cell_type": "markdown",
   "metadata": {},
   "source": [
    "### Debugging Tip: What if we don't know what iteration yields?"
   ]
  },
  {
   "cell_type": "code",
   "execution_count": null,
   "metadata": {},
   "outputs": [],
   "source": [
    "import numpy as np\n",
    "import pandas as pd\n",
    "\n",
    "X = np.random.rand(5, 3)\n",
    "df = pd.DataFrame(X, columns=['col1', 'col2', 'col3'])"
   ]
  },
  {
   "cell_type": "markdown",
   "metadata": {},
   "source": [
    "### What is the element if iterable is a NumPy array?"
   ]
  },
  {
   "cell_type": "code",
   "execution_count": null,
   "metadata": {},
   "outputs": [],
   "source": [
    "for elem in X:\n",
    "    break"
   ]
  },
  {
   "cell_type": "code",
   "execution_count": null,
   "metadata": {},
   "outputs": [],
   "source": [
    "elem"
   ]
  },
  {
   "cell_type": "code",
   "execution_count": null,
   "metadata": {},
   "outputs": [],
   "source": [
    "X"
   ]
  },
  {
   "cell_type": "markdown",
   "metadata": {},
   "source": [
    "### What is the element if iterable is a Pandas dataframe?"
   ]
  },
  {
   "cell_type": "code",
   "execution_count": null,
   "metadata": {},
   "outputs": [],
   "source": [
    "for elem in df:\n",
    "    break"
   ]
  },
  {
   "cell_type": "code",
   "execution_count": null,
   "metadata": {},
   "outputs": [],
   "source": [
    "elem"
   ]
  },
  {
   "cell_type": "code",
   "execution_count": null,
   "metadata": {},
   "outputs": [],
   "source": [
    "df"
   ]
  },
  {
   "cell_type": "markdown",
   "metadata": {},
   "source": [
    "### `break` and `continue` statements"
   ]
  },
  {
   "cell_type": "code",
   "execution_count": null,
   "metadata": {},
   "outputs": [],
   "source": [
    "data = [{'name': \"BYJU's\", 'industry': 'e-tech', 'funding (USD)': 200000000},\n",
    "        {'name': 'Flipkart', 'industry': 'e-commerce', 'funding (USD)': 2500000000},\n",
    "        {'name': 'Shuttl', 'industry': 'transport', 'funding (USD)': 8048394}]"
   ]
  },
  {
   "cell_type": "markdown",
   "metadata": {},
   "source": [
    "### E.g: Find Flipkart's Funding"
   ]
  },
  {
   "cell_type": "code",
   "execution_count": null,
   "metadata": {},
   "outputs": [],
   "source": [
    "for k in data:\n",
    "    if k['name'] == 'Flipkart':\n",
    "        break\n",
    "print(k['funding (USD)'])"
   ]
  },
  {
   "cell_type": "markdown",
   "metadata": {},
   "source": [
    "### E.g: Find the startups that have a funding of more than 5 Million USD"
   ]
  },
  {
   "cell_type": "code",
   "execution_count": null,
   "metadata": {},
   "outputs": [],
   "source": [
    "data = [\n",
    " {'Startup Name': 'Proximit',\n",
    "  'Industry Vertical': 'Technology',\n",
    "  'City  Location': 'Pune',\n",
    "  'Amount in USD': 150000},\n",
    " {'Startup Name': 'Fintobox',\n",
    "  'Industry Vertical': 'Technology',\n",
    "  'City  Location': 'Chennai',\n",
    "  'Amount in USD': 7000000},\n",
    " {'Startup Name': 'TinyStep',\n",
    "  'Industry Vertical': 'Consumer Internet',\n",
    "  'City  Location': 'Bangalore',\n",
    "  'Amount in USD': 2000000},\n",
    " {'Startup Name': 'MobiKwik',\n",
    "  'Industry Vertical': 'Digital / Mobile Wallet',\n",
    "  'City  Location': 'Gurgaon',\n",
    "  'Amount in USD': 25000000},\n",
    " {'Startup Name': 'Homergize',\n",
    "  'Industry Vertical': 'eCommerce',\n",
    "  'City  Location': 'Bangalore',\n",
    "  'Amount in USD': 1000000}\n",
    "]\n",
    "\n",
    "for k in data:\n",
    "    if k['Amount in USD'] <= 5000000:\n",
    "        continue\n",
    "    else:\n",
    "        print(k['Startup Name'])"
   ]
  },
  {
   "cell_type": "markdown",
   "metadata": {},
   "source": [
    "## List Comprehension\n",
    "\n",
    "```python\n",
    "[py_expression for element in some_list]\n",
    "```"
   ]
  },
  {
   "cell_type": "code",
   "execution_count": null,
   "metadata": {},
   "outputs": [],
   "source": [
    "x = range(1, 11)\n",
    "double_x = [2 * i for i in x]\n",
    "double_x"
   ]
  },
  {
   "cell_type": "markdown",
   "metadata": {},
   "source": [
    "```python\n",
    "[function_call(element) for element in some_list]\n",
    "```"
   ]
  },
  {
   "cell_type": "code",
   "execution_count": null,
   "metadata": {},
   "outputs": [],
   "source": [
    "x = range(1, 11)\n",
    "\n",
    "def square(i):\n",
    "    return i * i\n",
    "\n",
    "[square(i) for i in x]"
   ]
  },
  {
   "cell_type": "markdown",
   "metadata": {},
   "source": [
    "## Nested Loops\n",
    "### E.g. Print `data` as a table"
   ]
  },
  {
   "cell_type": "code",
   "execution_count": null,
   "metadata": {},
   "outputs": [],
   "source": [
    "for record in data:\n",
    "    row = []\n",
    "    for key in record:\n",
    "        row.append(record[key])\n",
    "    print(row)"
   ]
  },
  {
   "cell_type": "markdown",
   "metadata": {},
   "source": [
    "## `while` loops\n",
    "\n",
    "```python\n",
    "while condition:\n",
    "    do_something()\n",
    "```"
   ]
  },
  {
   "cell_type": "code",
   "execution_count": null,
   "metadata": {},
   "outputs": [],
   "source": [
    "import random"
   ]
  },
  {
   "cell_type": "code",
   "execution_count": null,
   "metadata": {},
   "outputs": [],
   "source": [
    "password = random.randint(0, 100)"
   ]
  },
  {
   "cell_type": "code",
   "execution_count": null,
   "metadata": {},
   "outputs": [],
   "source": [
    "guess = 0\n",
    "password_unknown = True\n",
    "\n",
    "while password_unknown:\n",
    "    if guess == password:\n",
    "        password_unknown = False\n",
    "    else:\n",
    "        guess += 1\n",
    "\n",
    "print(guess)"
   ]
  },
  {
   "cell_type": "markdown",
   "metadata": {},
   "source": [
    "### `while` with `break`"
   ]
  },
  {
   "cell_type": "code",
   "execution_count": null,
   "metadata": {},
   "outputs": [],
   "source": [
    "password = random.randint(0, 100)\n",
    "\n",
    "guess = 0\n",
    "while True:\n",
    "    if guess == password:\n",
    "        break\n",
    "    guess += 1\n",
    "\n",
    "print(guess)"
   ]
  },
  {
   "cell_type": "markdown",
   "metadata": {},
   "source": [
    "## Exercise: In the dataset below, find the maximum funding received by a startup located in a non-metro city."
   ]
  },
  {
   "cell_type": "code",
   "execution_count": null,
   "metadata": {},
   "outputs": [],
   "source": [
    "import pandas as pd\n",
    "df = pd.read_csv('../data/startup_funding.csv', nrows=100, usecols=['Startup Name', 'City', 'Amount in USD'])\n",
    "\n",
    "data = df.to_dict(orient='records')\n",
    "data[:5]"
   ]
  },
  {
   "cell_type": "code",
   "execution_count": null,
   "metadata": {},
   "outputs": [],
   "source": [
    "METROS = ['Bengaluru', 'Gurgaon', 'New Delhi', 'Mumbai', 'Chennai', 'Pune', 'San Francisco', 'San Jose,',\n",
    "          'Delhi', 'Kormangala', 'Hyderabad', 'Menlo Park', 'Gurugram', 'Palo Alto', 'Santa Monica', 'Singapore',\n",
    "          'Andheri', 'Chembur']"
   ]
  },
  {
   "cell_type": "code",
   "execution_count": null,
   "metadata": {},
   "outputs": [],
   "source": [
    "# Enter code here\n",
    "# Hint: Use the `max` function"
   ]
  }
 ],
 "metadata": {
  "kernelspec": {
   "display_name": "Python 3",
   "language": "python",
   "name": "python3"
  },
  "language_info": {
   "codemirror_mode": {
    "name": "ipython",
    "version": 3
   },
   "file_extension": ".py",
   "mimetype": "text/x-python",
   "name": "python",
   "nbconvert_exporter": "python",
   "pygments_lexer": "ipython3",
   "version": "3.7.7"
  }
 },
 "nbformat": 4,
 "nbformat_minor": 4
}
