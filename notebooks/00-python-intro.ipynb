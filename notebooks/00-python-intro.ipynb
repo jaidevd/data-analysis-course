{
 "cells": [
  {
   "cell_type": "markdown",
   "metadata": {},
   "source": [
    "# 1. Compound Data Types\n",
    "## 1.1. list\n",
    "* A list is an object that contains multiple data items enclosed in square brakets. \n",
    "* Lists are mutable, which means that their contents can be changed during a program’s execution. \n",
    "* Lists are dynamic data structures, meaning that items may be added to them or removed from them.\n",
    "* Lists are _heterogenous_"
   ]
  },
  {
   "cell_type": "code",
   "execution_count": null,
   "metadata": {},
   "outputs": [],
   "source": [
    "[\"apples\", \"oranges\", \"cherries\"]"
   ]
  },
  {
   "cell_type": "code",
   "execution_count": null,
   "metadata": {},
   "outputs": [],
   "source": [
    "prod_nums = ['V475', 'F987', 'Q143', 'R688']"
   ]
  },
  {
   "cell_type": "code",
   "execution_count": null,
   "metadata": {},
   "outputs": [],
   "source": [
    "sales_by_month = [250, 180, 360, 340]"
   ]
  },
  {
   "cell_type": "code",
   "execution_count": null,
   "metadata": {},
   "outputs": [],
   "source": [
    "# nested lists\n",
    "sales_by_season = [[250, 180, 360], [340, 450, 250],[180, 230, 320], [550, 360, 190]]"
   ]
  },
  {
   "cell_type": "markdown",
   "metadata": {},
   "source": [
    "#### Exercise: Create a list to store your name, age and gender."
   ]
  },
  {
   "cell_type": "code",
   "execution_count": null,
   "metadata": {},
   "outputs": [],
   "source": [
    "# enter code here"
   ]
  },
  {
   "cell_type": "markdown",
   "metadata": {},
   "source": [
    "### 1.1.1. Common operations on lists"
   ]
  },
  {
   "cell_type": "code",
   "execution_count": null,
   "metadata": {},
   "outputs": [],
   "source": [
    "len(sales_by_month)"
   ]
  },
  {
   "cell_type": "code",
   "execution_count": null,
   "metadata": {},
   "outputs": [],
   "source": [
    "sales_by_month[1] = 230\n",
    "sales_by_month"
   ]
  },
  {
   "cell_type": "markdown",
   "metadata": {},
   "source": [
    "### List Sliceing / Indexing"
   ]
  },
  {
   "cell_type": "code",
   "execution_count": null,
   "metadata": {
    "scrolled": true
   },
   "outputs": [],
   "source": [
    "sales_by_month[1:3]"
   ]
  },
  {
   "cell_type": "markdown",
   "metadata": {},
   "source": [
    "### Creating Lists"
   ]
  },
  {
   "cell_type": "code",
   "execution_count": null,
   "metadata": {},
   "outputs": [],
   "source": [
    "# use list() and range() to create lists\n",
    "a = list(range(2, 20))\n",
    "a"
   ]
  },
  {
   "cell_type": "code",
   "execution_count": null,
   "metadata": {},
   "outputs": [],
   "source": [
    "a = list(range(2, 20, 2))\n",
    "a"
   ]
  },
  {
   "cell_type": "code",
   "execution_count": null,
   "metadata": {},
   "outputs": [],
   "source": [
    "a[2:6] # note the stopping position is excluded"
   ]
  },
  {
   "cell_type": "code",
   "execution_count": null,
   "metadata": {},
   "outputs": [],
   "source": [
    "a[2:6:2]"
   ]
  },
  {
   "cell_type": "markdown",
   "metadata": {},
   "source": [
    "#### Exercise: Create a list of the first twenty positive integers, slice it to find all even numbers."
   ]
  },
  {
   "cell_type": "code",
   "execution_count": null,
   "metadata": {},
   "outputs": [],
   "source": [
    "# enter code here"
   ]
  },
  {
   "cell_type": "markdown",
   "metadata": {},
   "source": [
    "### 1.1.2 Other list operations\n",
    "### Joining Lists"
   ]
  },
  {
   "cell_type": "code",
   "execution_count": null,
   "metadata": {},
   "outputs": [],
   "source": [
    "# joining two lists\n",
    "sales_by_month = [250, 180, 360, 340]\n",
    "sales_new = [99, 100, 101, 102] \n",
    "sales_by_month += sales_new\n",
    "sales_by_month"
   ]
  },
  {
   "cell_type": "code",
   "execution_count": null,
   "metadata": {},
   "outputs": [],
   "source": [
    "# use in function to find items in a list\n",
    "prod_nums = ['V475', 'F987', 'Q143', 'R688']\n",
    "search = input('Enter a product number: ')\n",
    "if search in prod_nums:\n",
    "    print(\"We found the product\")\n",
    "else:\n",
    "    print(\"Product is not found\")"
   ]
  },
  {
   "cell_type": "markdown",
   "metadata": {},
   "source": [
    "### Iterating on a list"
   ]
  },
  {
   "cell_type": "code",
   "execution_count": null,
   "metadata": {},
   "outputs": [],
   "source": [
    "# for loop on a list\n",
    "print('Month \\t','Sales')\n",
    "i=1\n",
    "for x in sales_by_month:\n",
    "    print(i, '\\t', x)\n",
    "    i=i+1"
   ]
  },
  {
   "cell_type": "markdown",
   "metadata": {},
   "source": [
    "### 1.1.3. List Methods \n",
    "A method in python is similar to a function, except it is associated with an object. Unlike a function, methods are called on an object by `Object.method()`. \n",
    "1. Use Tab key followed by `object.` to list all methods associated with the object. \n",
    "2. Use `Object.method?` to show the key information about the method\n",
    "\n",
    "### Useful methods for lists"
   ]
  },
  {
   "cell_type": "code",
   "execution_count": null,
   "metadata": {},
   "outputs": [],
   "source": [
    "A = list(range(1,6))\n",
    "A"
   ]
  },
  {
   "cell_type": "code",
   "execution_count": null,
   "metadata": {},
   "outputs": [],
   "source": [
    "# .append() method to add elements to the end\n",
    "A.append(30)\n",
    "A"
   ]
  },
  {
   "cell_type": "code",
   "execution_count": null,
   "metadata": {},
   "outputs": [],
   "source": [
    "# .pop() removes the last element\n",
    "A.pop()\n",
    "A"
   ]
  },
  {
   "cell_type": "code",
   "execution_count": null,
   "metadata": {},
   "outputs": [],
   "source": [
    "A.pop(3) # remove the element at position 3\n",
    "A"
   ]
  },
  {
   "cell_type": "code",
   "execution_count": null,
   "metadata": {},
   "outputs": [],
   "source": [
    "A.remove(2) # find the element 2 and remove it from the list\n",
    "A"
   ]
  },
  {
   "cell_type": "code",
   "execution_count": null,
   "metadata": {},
   "outputs": [],
   "source": [
    "# .insert() adds an element to a specific position\n",
    "A.insert(3, 20)\n",
    "A"
   ]
  },
  {
   "cell_type": "code",
   "execution_count": null,
   "metadata": {},
   "outputs": [],
   "source": [
    "# .sort() to sort the elements in a list\n",
    "A.sort()\n",
    "A"
   ]
  },
  {
   "cell_type": "markdown",
   "metadata": {},
   "source": [
    "### Copying Lists"
   ]
  },
  {
   "cell_type": "code",
   "execution_count": null,
   "metadata": {},
   "outputs": [],
   "source": [
    "A = list(range(1,6))\n",
    "B = A\n",
    "C = A.copy()\n",
    "A[-1] = 20 # change the last element in A to 20\n",
    "print(B) # the output will show that B has been changed too\n",
    "print(C) # the list C remains the same"
   ]
  },
  {
   "cell_type": "markdown",
   "metadata": {},
   "source": [
    "### Exercise:\n",
    "1. Create a list containing the first twenty positive integers.\n",
    "2. Create another list containing their squares"
   ]
  },
  {
   "cell_type": "code",
   "execution_count": null,
   "metadata": {},
   "outputs": [],
   "source": [
    "# enter code here"
   ]
  },
  {
   "cell_type": "markdown",
   "metadata": {},
   "source": [
    "### Exercise - Find the median of a list of numbers\n",
    "1. Median is the middle value in a **sorted** list of numbers.\n",
    "2. Hint: Use `.sort()` and indexing"
   ]
  },
  {
   "cell_type": "code",
   "execution_count": null,
   "metadata": {},
   "outputs": [],
   "source": [
    "# enter code here"
   ]
  },
  {
   "cell_type": "markdown",
   "metadata": {},
   "source": [
    "## 1.2. Tuples\n",
    "A tuple is a type of sequence that resembles a list, except that, unlike a list, a tuple is immutable (can't be changed). A tuple literal in Python is enclosed in parentheses."
   ]
  },
  {
   "cell_type": "code",
   "execution_count": null,
   "metadata": {},
   "outputs": [],
   "source": [
    "warehouse = ('Chicago','Philadelphia','San Jose')"
   ]
  },
  {
   "cell_type": "markdown",
   "metadata": {},
   "source": [
    "## 1.3. Dictionary \n",
    "Dictionaries are Python’s implementation of:\n",
    "1. an associative array\n",
    "2. a hash table\n",
    "3. a lookup.\n",
    "\n",
    "A dictionary consists of a collection of key-value pairs (entries).\n",
    "\n",
    "A dictionary in Python is a comma-separated list of key-value pairs in curly braces {}. A colon (:) separates each key from its associated value:\n",
    "```\n",
    "d = {<key>: <value>,<key>: <value>,..., <key>:<value>}\n",
    "```"
   ]
  },
  {
   "cell_type": "code",
   "execution_count": null,
   "metadata": {},
   "outputs": [],
   "source": [
    "tel = {\"Savannah\":\"476-3321\", \"Nathaniel\":\"351-7743\"}"
   ]
  },
  {
   "cell_type": "code",
   "execution_count": null,
   "metadata": {},
   "outputs": [],
   "source": [
    "info = {'name': 'Molly', 'age': 25}"
   ]
  },
  {
   "cell_type": "markdown",
   "metadata": {},
   "source": [
    "### 1.3.1. Common Dictionary Operations"
   ]
  },
  {
   "cell_type": "code",
   "execution_count": null,
   "metadata": {},
   "outputs": [],
   "source": [
    "# Accessing a value by a key\n",
    "info['name']"
   ]
  },
  {
   "cell_type": "code",
   "execution_count": null,
   "metadata": {},
   "outputs": [],
   "source": [
    "# Adding a new key, value pair\n",
    "info['job'] = \"Analyst\"\n",
    "info"
   ]
  },
  {
   "cell_type": "code",
   "execution_count": null,
   "metadata": {},
   "outputs": [],
   "source": [
    "# Updating an existing key, value pair\n",
    "info['name']='Sally'\n",
    "info"
   ]
  },
  {
   "cell_type": "code",
   "execution_count": null,
   "metadata": {},
   "outputs": [],
   "source": [
    "# Removing a key, value pair\n",
    "info.pop('name')\n",
    "info"
   ]
  },
  {
   "cell_type": "code",
   "execution_count": null,
   "metadata": {},
   "outputs": [],
   "source": [
    "del info['name']"
   ]
  },
  {
   "cell_type": "code",
   "execution_count": null,
   "metadata": {},
   "outputs": [],
   "source": [
    "# Iterate through a dictionary\n",
    "for key in info:\n",
    "    print(key,':', info[key])"
   ]
  },
  {
   "cell_type": "markdown",
   "metadata": {},
   "source": [
    "### 1.3.2. Other Dictionary Operations\n",
    "\n",
    "* `len(d)`: Returns the number of entries in d.\n",
    "* `d.get(key [, default])`: Returns the value if the key exists or returns the default if the key does not exist. Raises an error if the default is omitted and the key does not exist.\n",
    "* `list(d.keys())`: Returns a list of the keys.\n",
    "* `list(d.values())`:Returns a list of the values. \n",
    "* `d.clear()`: Removes all entries from a dictionary."
   ]
  },
  {
   "cell_type": "code",
   "execution_count": null,
   "metadata": {},
   "outputs": [],
   "source": [
    "# Length of the dict\n",
    "len(info)"
   ]
  },
  {
   "cell_type": "code",
   "execution_count": null,
   "metadata": {},
   "outputs": [],
   "source": [
    "# List of keys in the dictionary\n",
    "list(info.keys())"
   ]
  },
  {
   "cell_type": "code",
   "execution_count": null,
   "metadata": {},
   "outputs": [],
   "source": [
    "# List of values in the dictionary\n",
    "list(info.values())"
   ]
  },
  {
   "cell_type": "code",
   "execution_count": null,
   "metadata": {},
   "outputs": [],
   "source": [
    "# Removing the contents of a dict\n",
    "info.clear()\n",
    "info"
   ]
  },
  {
   "cell_type": "markdown",
   "metadata": {},
   "source": [
    "### 1.3.3 Dictionaries for representing data"
   ]
  },
  {
   "cell_type": "code",
   "execution_count": null,
   "metadata": {},
   "outputs": [],
   "source": [
    "import pandas as pd\n",
    "data = {\n",
    "    \"name\": [\"BYJU's\", \"Flipkart\", \"Shuttl\"],\n",
    "    \"industry\": [\"e-tech\", \"e-commerce\", \"transport\"],\n",
    "    \"funding (USD)\": [200_000_000, 2_500_000_000, 8_048_394]\n",
    "}\n",
    "pd.DataFrame(data)"
   ]
  },
  {
   "cell_type": "code",
   "execution_count": null,
   "metadata": {},
   "outputs": [],
   "source": [
    "# alternative\n",
    "\n",
    "data = [{'name': \"BYJU's\", 'industry': 'e-tech', 'funding (USD)': 200000000},\n",
    "        {'name': 'Flipkart', 'industry': 'e-commerce', 'funding (USD)': 2500000000},\n",
    "        {'name': 'Shuttl', 'industry': 'transport', 'funding (USD)': 8048394}]\n",
    "pd.DataFrame.from_records(data)"
   ]
  },
  {
   "cell_type": "markdown",
   "metadata": {},
   "source": [
    "# Exercise:\n",
    "1. Add a column to this dataset denoting the location (E.g:, Mumbai, Bangalore, Chennai)\n",
    "2. Add a row to this dataset for PayTM - which is in the e-payments industry, located in Delhi and has received (suppose) a funding of 42 million USD."
   ]
  },
  {
   "cell_type": "code",
   "execution_count": null,
   "metadata": {},
   "outputs": [],
   "source": [
    "# enter code here"
   ]
  }
 ],
 "metadata": {
  "kernelspec": {
   "display_name": "Python 3",
   "language": "python",
   "name": "python3"
  },
  "language_info": {
   "codemirror_mode": {
    "name": "ipython",
    "version": 3
   },
   "file_extension": ".py",
   "mimetype": "text/x-python",
   "name": "python",
   "nbconvert_exporter": "python",
   "pygments_lexer": "ipython3",
   "version": "3.7.7"
  }
 },
 "nbformat": 4,
 "nbformat_minor": 4
}
